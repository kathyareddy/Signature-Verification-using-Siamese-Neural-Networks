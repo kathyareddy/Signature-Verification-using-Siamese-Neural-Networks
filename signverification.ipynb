{
  "nbformat": 4,
  "nbformat_minor": 0,
  "metadata": {
    "colab": {
      "provenance": [],
      "gpuType": "T4"
    },
    "kernelspec": {
      "name": "python3",
      "display_name": "Python 3"
    },
    "language_info": {
      "name": "python"
    },
    "accelerator": "GPU"
  },
  "cells": [
    {
      "cell_type": "code",
      "execution_count": null,
      "metadata": {
        "colab": {
          "base_uri": "https://localhost:8080/"
        },
        "id": "XY1RDfr3RUy4",
        "outputId": "d2499aa8-e314-4eb9-9769-c32d16cc17b6"
      },
      "outputs": [
        {
          "output_type": "stream",
          "name": "stdout",
          "text": [
            "\u001b[2K   \u001b[90m━━━━━━━━━━━━━━━━━━━━━━━━━━━━━━━━━━━━━━━━\u001b[0m \u001b[32m363.4/363.4 MB\u001b[0m \u001b[31m4.8 MB/s\u001b[0m eta \u001b[36m0:00:00\u001b[0m\n",
            "\u001b[2K   \u001b[90m━━━━━━━━━━━━━━━━━━━━━━━━━━━━━━━━━━━━━━━━\u001b[0m \u001b[32m13.8/13.8 MB\u001b[0m \u001b[31m98.3 MB/s\u001b[0m eta \u001b[36m0:00:00\u001b[0m\n",
            "\u001b[2K   \u001b[90m━━━━━━━━━━━━━━━━━━━━━━━━━━━━━━━━━━━━━━━━\u001b[0m \u001b[32m24.6/24.6 MB\u001b[0m \u001b[31m69.3 MB/s\u001b[0m eta \u001b[36m0:00:00\u001b[0m\n",
            "\u001b[2K   \u001b[90m━━━━━━━━━━━━━━━━━━━━━━━━━━━━━━━━━━━━━━━━\u001b[0m \u001b[32m883.7/883.7 kB\u001b[0m \u001b[31m45.4 MB/s\u001b[0m eta \u001b[36m0:00:00\u001b[0m\n",
            "\u001b[2K   \u001b[90m━━━━━━━━━━━━━━━━━━━━━━━━━━━━━━━━━━━━━━━━\u001b[0m \u001b[32m664.8/664.8 MB\u001b[0m \u001b[31m2.0 MB/s\u001b[0m eta \u001b[36m0:00:00\u001b[0m\n",
            "\u001b[2K   \u001b[90m━━━━━━━━━━━━━━━━━━━━━━━━━━━━━━━━━━━━━━━━\u001b[0m \u001b[32m211.5/211.5 MB\u001b[0m \u001b[31m5.4 MB/s\u001b[0m eta \u001b[36m0:00:00\u001b[0m\n",
            "\u001b[2K   \u001b[90m━━━━━━━━━━━━━━━━━━━━━━━━━━━━━━━━━━━━━━━━\u001b[0m \u001b[32m56.3/56.3 MB\u001b[0m \u001b[31m21.0 MB/s\u001b[0m eta \u001b[36m0:00:00\u001b[0m\n",
            "\u001b[2K   \u001b[90m━━━━━━━━━━━━━━━━━━━━━━━━━━━━━━━━━━━━━━━━\u001b[0m \u001b[32m127.9/127.9 MB\u001b[0m \u001b[31m8.4 MB/s\u001b[0m eta \u001b[36m0:00:00\u001b[0m\n",
            "\u001b[2K   \u001b[90m━━━━━━━━━━━━━━━━━━━━━━━━━━━━━━━━━━━━━━━━\u001b[0m \u001b[32m207.5/207.5 MB\u001b[0m \u001b[31m5.6 MB/s\u001b[0m eta \u001b[36m0:00:00\u001b[0m\n",
            "\u001b[2K   \u001b[90m━━━━━━━━━━━━━━━━━━━━━━━━━━━━━━━━━━━━━━━━\u001b[0m \u001b[32m21.1/21.1 MB\u001b[0m \u001b[31m45.9 MB/s\u001b[0m eta \u001b[36m0:00:00\u001b[0m\n",
            "\u001b[?25h"
          ]
        }
      ],
      "source": [
        "!pip install -q torch torchvision matplotlib pandas\n"
      ]
    },
    {
      "cell_type": "code",
      "source": [
        "import os\n",
        "import cv2\n",
        "import random\n",
        "import numpy as np\n",
        "import matplotlib.pyplot as plt\n",
        "from PIL import Image\n",
        "import pandas as pd\n",
        "\n",
        "import torch\n",
        "import torch.nn as nn\n",
        "from torch.utils.data import Dataset, DataLoader\n",
        "import torchvision.transforms as transforms\n"
      ],
      "metadata": {
        "id": "NdI5strog9df"
      },
      "execution_count": null,
      "outputs": []
    },
    {
      "cell_type": "code",
      "source": [
        "import os\n",
        "\n",
        "data_path = \"/content/drive/MyDrive/sign_data/train\"\n",
        "print(\"Folders found:\", os.listdir(data_path))\n"
      ],
      "metadata": {
        "colab": {
          "base_uri": "https://localhost:8080/"
        },
        "id": "pOWbS7Fghf13",
        "outputId": "094c6519-04e1-4205-c77c-64661c4739a6"
      },
      "execution_count": null,
      "outputs": [
        {
          "output_type": "stream",
          "name": "stdout",
          "text": [
            "Folders found: ['002', '001', '003_forg', '001_forg', '003', '002_forg', '013', '009', '004_forg', '006', '004', '012_forg', '009_forg', '006_forg', '012', '013_forg', '014', '015_forg', '015', '018', '016', '018_forg', '016_forg', '017', '014_forg', '017_forg', '023_forg', '020_forg', '021', '020', '022_forg', '021_forg', '019_forg', '019', '023', '022', '027_forg', '025_forg', '025', '024_forg', '024', '026', '027', '026_forg', '028', '028_forg', '032_forg', '031', '033_forg', '032', '029_forg', '030_forg', '030', '031_forg', '033', '029', '036', '035', '035_forg', '036_forg', '037', '038', '034_forg', '037_forg', '038_forg', '034', '039', '041', '040', '042', '043_forg', '039_forg', '040_forg', '043', '041_forg', '042_forg', '047', '047_forg', '044_forg', '048_forg', '046_forg', '045_forg', '045', '048', '044', '046', '053', '049', '052', '053_forg', '050_forg', '050', '049_forg', '051', '052_forg', '051_forg', '056', '054_forg', '055', '056_forg', '054', '057', '058', '055_forg', '057_forg', '058_forg', '062_forg', '059_forg', '062', '061_forg', '063_forg', '060', '061', '060_forg', '063', '059', '068', '064_forg', '066', '066_forg', '067', '065_forg', '065', '068_forg', '064', '067_forg', '069', '069_forg']\n"
          ]
        }
      ]
    },
    {
      "cell_type": "code",
      "source": [
        "sample_user = os.path.join(data_path, os.listdir(data_path)[0])\n",
        "print(\"Sample user folder:\", sample_user)\n",
        "print(\"Files in it:\", os.listdir(sample_user))\n"
      ],
      "metadata": {
        "colab": {
          "base_uri": "https://localhost:8080/"
        },
        "id": "OqqxGu-RhqPl",
        "outputId": "2a1e0bd2-b404-42d4-c78f-34c691f798a7"
      },
      "execution_count": null,
      "outputs": [
        {
          "output_type": "stream",
          "name": "stdout",
          "text": [
            "Sample user folder: /content/drive/MyDrive/sign_data/train/002\n",
            "Files in it: ['002_01.PNG', '002_05.PNG', '002_03.PNG', '002_02.PNG', '002_04.PNG', '002_06.PNG', '002_23.PNG', '002_19.PNG', '002_13.PNG', '002_12.PNG', '002_08.PNG', '002_20.PNG', '002_17.PNG', '002_24.PNG', '002_09.PNG', '002_18.PNG', '002_14.PNG', '002_11.PNG', '002_16.PNG', '002_21.PNG', '002_07.PNG', '002_10.PNG', '002_22.PNG', '002_15.PNG']\n"
          ]
        }
      ]
    },
    {
      "cell_type": "code",
      "source": [
        "genuine_path = \"/content/drive/MyDrive/sign_data/train/002\"\n",
        "print(\"Files in 002:\", os.listdir(genuine_path))\n"
      ],
      "metadata": {
        "colab": {
          "base_uri": "https://localhost:8080/"
        },
        "id": "JdVBz-KkiO4Q",
        "outputId": "89ae5cf4-0820-4931-b75a-1f892ec3dd65"
      },
      "execution_count": null,
      "outputs": [
        {
          "output_type": "stream",
          "name": "stdout",
          "text": [
            "Files in 002: ['002_01.PNG', '002_05.PNG', '002_03.PNG', '002_02.PNG', '002_04.PNG', '002_06.PNG', '002_23.PNG', '002_19.PNG', '002_13.PNG', '002_12.PNG', '002_08.PNG', '002_20.PNG', '002_17.PNG', '002_24.PNG', '002_09.PNG', '002_18.PNG', '002_14.PNG', '002_11.PNG', '002_16.PNG', '002_21.PNG', '002_07.PNG', '002_10.PNG', '002_22.PNG', '002_15.PNG']\n"
          ]
        }
      ]
    },
    {
      "cell_type": "code",
      "source": [
        "print([f for f in os.listdir(genuine_path) if f.endswith(\".PNG\")])\n"
      ],
      "metadata": {
        "colab": {
          "base_uri": "https://localhost:8080/"
        },
        "id": "OOn5V6gFia0W",
        "outputId": "7e21eca9-13da-4923-b210-3858d1f98b3c"
      },
      "execution_count": null,
      "outputs": [
        {
          "output_type": "stream",
          "name": "stdout",
          "text": [
            "['002_01.PNG', '002_05.PNG', '002_03.PNG', '002_02.PNG', '002_04.PNG', '002_06.PNG', '002_23.PNG', '002_19.PNG', '002_13.PNG', '002_12.PNG', '002_08.PNG', '002_20.PNG', '002_17.PNG', '002_24.PNG', '002_09.PNG', '002_18.PNG', '002_14.PNG', '002_11.PNG', '002_16.PNG', '002_21.PNG', '002_07.PNG', '002_10.PNG', '002_22.PNG', '002_15.PNG']\n"
          ]
        }
      ]
    },
    {
      "cell_type": "code",
      "source": [
        "class SignatureDataset(Dataset):\n",
        "    def __init__(self, base_path, transform=None):\n",
        "        self.base_path = base_path\n",
        "        self.transform = transform\n",
        "        self.pairs = []\n",
        "\n",
        "        users = sorted([f for f in os.listdir(base_path) if f.isdigit()])\n",
        "\n",
        "        for user in users:\n",
        "            genuine_path = os.path.join(base_path, user)\n",
        "            forged_path = os.path.join(base_path, f\"{user}_forg\")\n",
        "\n",
        "            if not os.path.isdir(genuine_path) or not os.path.isdir(forged_path):\n",
        "                continue\n",
        "\n",
        "            genuine_imgs = [f for f in os.listdir(genuine_path) if f.lower().endswith(\".png\")]\n",
        "            forged_imgs = [f for f in os.listdir(forged_path) if f.lower().endswith(\".png\")]\n",
        "\n",
        "            for g in genuine_imgs:\n",
        "                # Positive pair\n",
        "                genuine_alts = [x for x in genuine_imgs if x != g]\n",
        "                if genuine_alts:\n",
        "                    g2 = random.choice(genuine_alts)\n",
        "                    self.pairs.append((\n",
        "                        os.path.join(genuine_path, g),\n",
        "                        os.path.join(genuine_path, g2),\n",
        "                        1\n",
        "                    ))\n",
        "\n",
        "                # Negative pair\n",
        "                if forged_imgs:\n",
        "                    f = random.choice(forged_imgs)\n",
        "                    self.pairs.append((\n",
        "                        os.path.join(genuine_path, g),\n",
        "                        os.path.join(forged_path, f),\n",
        "                        0\n",
        "                    ))\n",
        "\n",
        "    def __len__(self):\n",
        "        return len(self.pairs)\n",
        "\n",
        "    def __getitem__(self, idx):\n",
        "        img1_path, img2_path, label = self.pairs[idx]\n",
        "        img1 = Image.open(img1_path).convert(\"L\")\n",
        "        img2 = Image.open(img2_path).convert(\"L\")\n",
        "\n",
        "        if self.transform:\n",
        "            img1 = self.transform(img1)\n",
        "            img2 = self.transform(img2)\n",
        "\n",
        "        return img1, img2, torch.tensor([label], dtype=torch.float32)\n"
      ],
      "metadata": {
        "id": "G7IjNWdMixX8"
      },
      "execution_count": null,
      "outputs": []
    },
    {
      "cell_type": "code",
      "source": [
        "class SiameseNetwork(nn.Module):\n",
        "    def __init__(self):\n",
        "        super(SiameseNetwork, self).__init__()\n",
        "        self.cnn = nn.Sequential(\n",
        "            nn.Conv2d(1, 64, kernel_size=5),\n",
        "            nn.ReLU(),\n",
        "            nn.MaxPool2d(2),\n",
        "\n",
        "            nn.Conv2d(64, 128, kernel_size=5),\n",
        "            nn.ReLU(),\n",
        "            nn.MaxPool2d(2)\n",
        "        )\n",
        "\n",
        "        # Dummy pass to calculate the flattened feature size\n",
        "        with torch.no_grad():\n",
        "            dummy = torch.zeros(1, 1, 100, 100)  # (batch, channel, H, W)\n",
        "            dummy_out = self.cnn(dummy)\n",
        "            self.flat_dim = dummy_out.view(1, -1).shape[1]\n",
        "\n",
        "        self.fc = nn.Sequential(\n",
        "            nn.Linear(self.flat_dim, 512),\n",
        "            nn.ReLU(),\n",
        "            nn.Linear(512, 1)\n",
        "        )\n",
        "\n",
        "    def forward_one(self, x):\n",
        "        out = self.cnn(x)\n",
        "        return out.view(out.size(0), -1)\n",
        "\n",
        "    def forward(self, x1, x2):\n",
        "        out1 = self.forward_one(x1)\n",
        "        out2 = self.forward_one(x2)\n",
        "        return self.fc(torch.abs(out1 - out2))\n"
      ],
      "metadata": {
        "id": "XBVdoz5ai28p"
      },
      "execution_count": null,
      "outputs": []
    },
    {
      "cell_type": "code",
      "source": [
        "transform = transforms.Compose([\n",
        "    transforms.Resize((100, 100)),\n",
        "    transforms.ToTensor()\n",
        "])\n",
        "\n",
        "data_path = \"/content/drive/MyDrive/sign_data/train\"\n",
        "dataset = SignatureDataset(data_path, transform=transform)\n",
        "loader = DataLoader(dataset, shuffle=True, batch_size=8)\n"
      ],
      "metadata": {
        "id": "skocVpmei7_h"
      },
      "execution_count": null,
      "outputs": []
    },
    {
      "cell_type": "code",
      "source": [
        "device = torch.device(\"cuda\" if torch.cuda.is_available() else \"cpu\")\n",
        "model = SiameseNetwork().to(device)\n",
        "\n",
        "criterion = nn.BCEWithLogitsLoss()\n",
        "optimizer = torch.optim.Adam(model.parameters(), lr=0.001)\n",
        "\n",
        "for epoch in range(2):\n",
        "    model.train()\n",
        "    total_loss = 0\n",
        "    for img1, img2, label in loader:\n",
        "        img1, img2, label = img1.to(device), img2.to(device), label.to(device)\n",
        "        optimizer.zero_grad()\n",
        "        output = model(img1, img2)\n",
        "        loss = criterion(output, label)\n",
        "        loss.backward()\n",
        "        optimizer.step()\n",
        "        total_loss += loss.item()\n",
        "    print(f\"Epoch {epoch+1}/5, Loss: {total_loss:.4f}\")\n"
      ],
      "metadata": {
        "colab": {
          "base_uri": "https://localhost:8080/"
        },
        "id": "TD0S1YxVi9br",
        "outputId": "9331e821-0c95-42da-920f-3306f55ef643"
      },
      "execution_count": null,
      "outputs": [
        {
          "output_type": "stream",
          "name": "stdout",
          "text": [
            "Epoch 1/5, Loss: 104.0123\n",
            "Epoch 2/5, Loss: 63.5004\n"
          ]
        }
      ]
    },
    {
      "cell_type": "code",
      "source": [
        "import torch\n",
        "print(\"CUDA Available?\", torch.cuda.is_available())\n",
        "print(\"Device:\", torch.cuda.get_device_name(0) if torch.cuda.is_available() else \"CPU\")\n"
      ],
      "metadata": {
        "colab": {
          "base_uri": "https://localhost:8080/"
        },
        "id": "uhs5dhWWlTcQ",
        "outputId": "fbb1915b-6d82-4e0e-bfc6-6e2140836f50"
      },
      "execution_count": null,
      "outputs": [
        {
          "output_type": "stream",
          "name": "stdout",
          "text": [
            "CUDA Available? False\n",
            "Device: CPU\n"
          ]
        }
      ]
    },
    {
      "cell_type": "code",
      "source": [
        "torch.save(model.state_dict(), \"/content/drive/MyDrive/signature_siamese.pth\")\n",
        "print(\"Model saved.\")\n"
      ],
      "metadata": {
        "colab": {
          "base_uri": "https://localhost:8080/"
        },
        "id": "2bfqOBL6i_5x",
        "outputId": "c8b9f6d0-c332-4ac5-be80-3624aecc0613"
      },
      "execution_count": null,
      "outputs": [
        {
          "output_type": "stream",
          "name": "stdout",
          "text": [
            "Model saved.\n"
          ]
        }
      ]
    },
    {
      "cell_type": "code",
      "source": [
        "from torchvision import transforms\n",
        "from PIL import Image\n",
        "import torch.nn.functional as F\n",
        "\n",
        "# Define the same transform used during training\n",
        "test_transform = transforms.Compose([\n",
        "    transforms.Resize((100, 100)),\n",
        "    transforms.ToTensor()\n",
        "])\n",
        "\n",
        "def predict_signature_match(model, path1, path2, threshold=0.5):\n",
        "    model.eval()\n",
        "    img1 = Image.open(path1).convert(\"L\")\n",
        "    img2 = Image.open(path2).convert(\"L\")\n",
        "\n",
        "    img1 = test_transform(img1).unsqueeze(0).to(device)  # add batch dim\n",
        "    img2 = test_transform(img2).unsqueeze(0).to(device)\n",
        "\n",
        "    with torch.no_grad():\n",
        "        output = model(img1, img2)\n",
        "        prob = torch.sigmoid(output).item()\n",
        "\n",
        "    label = \"Genuine Match ✅\" if prob >= threshold else \"Forged ❌\"\n",
        "    print(f\"Similarity Score: {prob:.4f} → {label}\")\n"
      ],
      "metadata": {
        "id": "E5tF2TqUpejO"
      },
      "execution_count": null,
      "outputs": []
    },
    {
      "cell_type": "code",
      "source": [
        "import matplotlib.pyplot as plt\n",
        "from torchvision import transforms\n",
        "from PIL import Image\n",
        "import torch\n",
        "\n",
        "# Use same transform as training\n",
        "test_transform = transforms.Compose([\n",
        "    transforms.Resize((100, 100)),\n",
        "    transforms.ToTensor()\n",
        "])\n",
        "\n",
        "def show_and_predict(model, path1, path2, threshold=0.5):\n",
        "    model.eval()\n",
        "    img1_raw = Image.open(path1).convert(\"L\")\n",
        "    img2_raw = Image.open(path2).convert(\"L\")\n",
        "\n",
        "    img1 = test_transform(img1_raw).unsqueeze(0).to(device)\n",
        "    img2 = test_transform(img2_raw).unsqueeze(0).to(device)\n",
        "\n",
        "    with torch.no_grad():\n",
        "        output = model(img1, img2)\n",
        "        prob = torch.sigmoid(output).item()\n",
        "\n",
        "    label = \" Genuine Match\" if prob >= threshold else \" Forged\"\n",
        "    print(f\"Similarity Score: {prob:.4f} → {label}\")\n",
        "\n",
        "    # Show the images side by side\n",
        "    fig, axs = plt.subplots(1, 2, figsize=(6, 3))\n",
        "    axs[0].imshow(img1_raw, cmap='gray')\n",
        "    axs[0].set_title(\"Signature 1\")\n",
        "    axs[0].axis('off')\n",
        "\n",
        "    axs[1].imshow(img2_raw, cmap='gray')\n",
        "    axs[1].set_title(\"Signature 2\")\n",
        "    axs[1].axis('off')\n",
        "\n",
        "    plt.suptitle(f\"Prediction: {label} (Score: {prob:.2f})\", fontsize=14)\n",
        "    plt.tight_layout()\n",
        "    plt.show()\n"
      ],
      "metadata": {
        "id": "zSXFmqTlpwLB"
      },
      "execution_count": null,
      "outputs": []
    },
    {
      "cell_type": "code",
      "source": [
        "show_and_predict(\n",
        "    model,\n",
        "    \"/content/drive/MyDrive/sign_data/train/002/002_01.PNG\",\n",
        "    \"/content/drive/MyDrive/sign_data/train/002_forg/0108002_01.png\"\n",
        ")\n"
      ],
      "metadata": {
        "colab": {
          "base_uri": "https://localhost:8080/",
          "height": 253
        },
        "id": "qJfdcO9Qpf8C",
        "outputId": "27c8376b-02ea-4eeb-d7af-21e7310f5d37"
      },
      "execution_count": null,
      "outputs": [
        {
          "output_type": "stream",
          "name": "stdout",
          "text": [
            "Similarity Score: 0.4522 →  Forged\n"
          ]
        },
        {
          "output_type": "display_data",
          "data": {
            "text/plain": [
              "<Figure size 600x300 with 2 Axes>"
            ],
            "image/png": "[encoded data removed]"
          },
          "metadata": {}
        }
      ]
    }
  ]
}